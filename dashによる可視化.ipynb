{
 "cells": [
  {
   "cell_type": "code",
   "execution_count": 7,
   "metadata": {},
   "outputs": [],
   "source": [
    "import numpy as np\n",
    "import pandas as pd\n",
    "import os\n",
    "import pickle\n",
    "#import settings\n",
    "import plotly\n",
    "import dash\n",
    "import dash_core_components as dcc   \n",
    "import dash_html_components as html\n",
    "import plotly.graph_objs as go \n",
    "import plotly.express as px\n",
    "from plotly.subplots import make_subplots"
   ]
  },
  {
   "cell_type": "code",
   "execution_count": 2,
   "metadata": {},
   "outputs": [],
   "source": [
    "#選手一覧データの読み込み\n",
    "df = pd.read_pickle('C:/Users/kurotsu-mayumi/Anaconda3/analysis_bb_gold/pickles_alt/player_info8.pkl')"
   ]
  },
  {
   "cell_type": "code",
   "execution_count": 3,
   "metadata": {},
   "outputs": [
    {
     "data": {
      "text/plain": [
       "(924, 44)"
      ]
     },
     "execution_count": 3,
     "metadata": {},
     "output_type": "execute_result"
    }
   ],
   "source": [
    "df.shape"
   ]
  },
  {
   "cell_type": "code",
   "execution_count": 4,
   "metadata": {},
   "outputs": [
    {
     "data": {
      "text/plain": [
       "Index(['背番号', '選手名', '守備', '生年月日', '年齢', 'プロ年数', '身長', '体重', '血液型', '投打',\n",
       "       '出身地', '推定年俸(万円)', '2019年所属球団', '生年年', '生年月', '生年日', '選手名_球団',\n",
       "       '選手名_生年月日', '出場試合数', '出身地域', '出身校', '高・大フラグ', 'オリックス', 'ソフトバンク', 'ヤクルト',\n",
       "       'ロッテ', '中日', '巨人', '広島', '日ハム', '楽天', '横浜', '西武', '阪神',\n",
       "       '直近10年間月間MVP受賞回数', '直近10年間GG受賞回数', '最大所属年数', '最大所属年数球団', 'ネックレス太さ',\n",
       "       '目的変数_ネックレス装着フラグ', '外国人フラグ', '育成', '2019年セパフラグ', '最大所属年数球団_adj'],\n",
       "      dtype='object')"
      ]
     },
     "execution_count": 4,
     "metadata": {},
     "output_type": "execute_result"
    }
   ],
   "source": [
    "df.columns"
   ]
  },
  {
   "cell_type": "markdown",
   "metadata": {},
   "source": [
    "### コールバック無し（グラフ１つ）"
   ]
  },
  {
   "cell_type": "code",
   "execution_count": 5,
   "metadata": {},
   "outputs": [
    {
     "name": "stdout",
     "output_type": "stream",
     "text": [
      "Dash is running on http://127.0.0.1:8050/\n",
      "\n",
      " Warning: This is a development server. Do not use app.run_server\n",
      " in production, use a production WSGI server like gunicorn instead.\n",
      "\n",
      " * Serving Flask app \"__main__\" (lazy loading)\n",
      " * Environment: production\n",
      "   WARNING: This is a development server. Do not use it in a production deployment.\n",
      "   Use a production WSGI server instead.\n",
      " * Debug mode: on\n"
     ]
    }
   ],
   "source": [
    "app = dash.Dash(__name__) #インスタンスの生成\n",
    "\n",
    "#レイアウトでアプリケーションの構造を記述する\n",
    "app.layout = html.Div(\n",
    "    children = [\n",
    "            html.H1(children = 'Dashでプロ野球選手属性の可視化をしてみる'),\n",
    "            html.Div(\n",
    "                children = '''\n",
    "                Dashたのしい。\n",
    "                '''),\n",
    "            dcc.Graph( #Graphメソッドは引数にplotlyのFigureオブジェクトをとる\n",
    "                id = 'example-graph',\n",
    "                figure = {\n",
    "                    'data':[\n",
    "                        go.Histogram(\n",
    "                            x = df['生年月'],\n",
    "                            marker = dict(color='#33D7E9'),\n",
    "                            opacity = 0.6)],\n",
    "                    'layout': go.Layout(\n",
    "                        title = '生年月',\n",
    "                        yaxis =dict(title='人数'),\n",
    "                        bargap =0.3)\n",
    "                        }\n",
    "            )\n",
    "    ]\n",
    ")\n",
    "\n",
    "#実行用\n",
    "if __name__ == '__main__':\n",
    "    app.run_server(debug = True, use_reloader=False)"
   ]
  },
  {
   "cell_type": "markdown",
   "metadata": {},
   "source": [
    "### コールバック無（Subplots)"
   ]
  },
  {
   "cell_type": "code",
   "execution_count": 9,
   "metadata": {},
   "outputs": [
    {
     "name": "stdout",
     "output_type": "stream",
     "text": [
      "Dash is running on http://127.0.0.1:8050/\n",
      "\n",
      "Dash is running on http://127.0.0.1:8050/\n",
      "\n",
      "Dash is running on http://127.0.0.1:8050/\n",
      "\n",
      "Dash is running on http://127.0.0.1:8050/\n",
      "\n",
      " Warning: This is a development server. Do not use app.run_server\n",
      " Warning: This is a development server. Do not use app.run_server\n",
      " Warning: This is a development server. Do not use app.run_server\n",
      " Warning: This is a development server. Do not use app.run_server\n",
      " in production, use a production WSGI server like gunicorn instead.\n",
      "\n",
      " in production, use a production WSGI server like gunicorn instead.\n",
      "\n",
      " in production, use a production WSGI server like gunicorn instead.\n",
      "\n",
      " in production, use a production WSGI server like gunicorn instead.\n",
      "\n",
      " * Serving Flask app \"__main__\" (lazy loading)\n",
      " * Environment: production\n",
      "   WARNING: This is a development server. Do not use it in a production deployment.\n",
      "   Use a production WSGI server instead.\n",
      " * Debug mode: on\n"
     ]
    }
   ],
   "source": [
    "external_stylesheets = ['https://codepen.io/chriddyp/pen/bWLwgP.css']\n",
    "app = dash.Dash(__name__,external_stylesheets=external_stylesheets)\n",
    "\n",
    "#生年月をあらかじめ集約しておく\n",
    "df_bar = df.groupby('生年月', as_index = False)['2019年所属球団'].count()\n",
    "df_bar = df_bar.rename(columns = {'2019年所属球団': 'count'})\n",
    "\n",
    "#出身地域を集約しておく\n",
    "df_region = df.groupby(['出身地域', '出身地'], as_index = False)['2019年所属球団'].count()\n",
    "df_region = df_region.rename(columns = {'2019年所属球団': 'count'})\n",
    "df_region['日本/海外'] = df_region['出身地域'].apply(lambda x: '海外' if x in ['アメリカ', 'ドミニカ共和国', 'キューバ', 'ベネズエラ', 'プエルトリコ', \n",
    "                                                          'メキシコ','カナダ', 'ブラジル', 'タイ', 'アンティル', 'オランダ', '台湾'] else '日本')\n",
    "df_region['地球'] = '地球'\n",
    "\n",
    "fig = make_subplots(\n",
    "    rows=1, cols=2,\n",
    "    subplot_titles=(\"生年月\", '出身地域', ))\n",
    "\n",
    "#生年月\n",
    "fig.add_trace(\n",
    "    go.Bar(x=df_bar[\"生年月\"],\n",
    "           y=df_bar['count']),\n",
    "    row=1, col=1\n",
    ")\n",
    "\n",
    "#出身地域\n",
    "fig.add_trace(\n",
    "    go.Bar(x=df_region['出身地域'],\n",
    "          y=df_region['count']),\n",
    "    row=1, col=2\n",
    ")\n",
    "\n",
    "\n",
    "app.layout = html.Div(\n",
    "    children = [\n",
    "        html.H2(children = 'Dashでプロ野球選手属性をインタラクティブな可視化をしてみる'),\n",
    "        html.Div(\n",
    "            children = '''\n",
    "            コールバック無しでもいい感じ\n",
    "            '''),\n",
    "\n",
    "    dcc.Graph(id=\"subplotGraph\", figure = fig)\n",
    "])\n",
    "\n",
    "\n",
    "if __name__ == '__main__':\n",
    "    app.run_server(debug = True, use_reloader=False)"
   ]
  },
  {
   "cell_type": "markdown",
   "metadata": {},
   "source": [
    "### コールバック例：球団ｘ選手の年齢分布"
   ]
  },
  {
   "cell_type": "code",
   "execution_count": null,
   "metadata": {},
   "outputs": [
    {
     "name": "stdout",
     "output_type": "stream",
     "text": [
      "Dash is running on http://127.0.0.1:8050/\n",
      "\n",
      "Dash is running on http://127.0.0.1:8050/\n",
      "\n",
      "Dash is running on http://127.0.0.1:8050/\n",
      "\n",
      "Dash is running on http://127.0.0.1:8050/\n",
      "\n",
      "Dash is running on http://127.0.0.1:8050/\n",
      "\n",
      " Warning: This is a development server. Do not use app.run_server\n",
      " Warning: This is a development server. Do not use app.run_server\n",
      " Warning: This is a development server. Do not use app.run_server\n",
      " Warning: This is a development server. Do not use app.run_server\n",
      " Warning: This is a development server. Do not use app.run_server\n",
      " in production, use a production WSGI server like gunicorn instead.\n",
      "\n",
      " in production, use a production WSGI server like gunicorn instead.\n",
      "\n",
      " in production, use a production WSGI server like gunicorn instead.\n",
      "\n",
      " in production, use a production WSGI server like gunicorn instead.\n",
      "\n",
      " in production, use a production WSGI server like gunicorn instead.\n",
      "\n",
      " * Serving Flask app \"__main__\" (lazy loading)\n",
      " * Environment: production\n",
      "   WARNING: This is a development server. Do not use it in a production deployment.\n",
      "   Use a production WSGI server instead.\n",
      " * Debug mode: on\n"
     ]
    }
   ],
   "source": [
    "app = dash.Dash(__name__)\n",
    "\n",
    "app.layout = html.Div(\n",
    "    children = [\n",
    "        html.H2(children = 'Dashでプロ野球選手属性をインタラクティブな可視化をしてみる'),\n",
    "        html.Div(\n",
    "            children = '''\n",
    "            球団を選択\n",
    "            '''),\n",
    "    dcc.Dropdown(\n",
    "        id = 'dropdown-example',\n",
    "        options = [{'label': i, 'value': i} for i in df['2019年所属球団'].unique()],\n",
    "        value = df['年齢'].mean()\n",
    "    ),\n",
    "    dcc.Graph(\n",
    "        id=\"AgeGraph\",\n",
    "    )\n",
    "])\n",
    "\n",
    "# ③コールバック作成\n",
    "@app.callback(\n",
    "    dash.dependencies.Output('AgeGraph', 'figure'),\n",
    "    [dash.dependencies.Input('dropdown-example', 'value')]\n",
    ")\n",
    "def update_graph(factor):\n",
    "    dff = df[df['2019年所属球団'] == factor]\n",
    "\n",
    "    return {\n",
    "        'data': [go.Histogram(\n",
    "            x = dff['年齢'],\n",
    "            xbins = dict(start = 18, end = 45),\n",
    "            marker = dict(color='#33D7E9'),\n",
    "            opacity = 0.6)],\n",
    "        'layout': go.Layout(\n",
    "            title = '選手の年齢分布',\n",
    "            yaxis =dict(title='人数'),\n",
    "            bargap =0.3)\n",
    "    }\n",
    "\n",
    "if __name__ == '__main__':\n",
    "    app.run_server(debug = True, use_reloader=False)"
   ]
  },
  {
   "cell_type": "markdown",
   "metadata": {},
   "source": [
    "### コールバック：年俸ｘ球団"
   ]
  },
  {
   "cell_type": "code",
   "execution_count": null,
   "metadata": {},
   "outputs": [],
   "source": [
    "app = dash.Dash(__name__)\n",
    "\n",
    "app.layout = html.Div(\n",
    "    children = [\n",
    "        html.H2(children = 'Dashでプロ野球選手属性をインタラクティブな可視化をしてみる'),\n",
    "        html.Div(\n",
    "            children = '''\n",
    "            球団を選択\n",
    "            '''),\n",
    "    dcc.Dropdown(\n",
    "        id = 'dropdown-example',\n",
    "        options = [{'label': i, 'value': i} for i in df['2019年所属球団'].unique()],\n",
    "        value = df['推定年俸(万円)'].mean()\n",
    "    ),\n",
    "    dcc.Graph(\n",
    "        id=\"salaryGraph\",\n",
    "    )\n",
    "])\n",
    "\n",
    "# ③コールバック作成\n",
    "@app.callback(\n",
    "    dash.dependencies.Output('salaryGraph', 'figure'),\n",
    "    [dash.dependencies.Input('dropdown-example', 'value')]\n",
    ")\n",
    "def update_graph(factor):\n",
    "    dff = df[df['2019年所属球団'] == factor]\n",
    "\n",
    "    return {\n",
    "        'data': [go.Histogram(\n",
    "            x = dff['推定年俸(万円)'],\n",
    "            #xbins = dict(start = 18, end = 45),\n",
    "            marker = dict(color='salmon'),\n",
    "            opacity = 0.6)],\n",
    "        'layout': go.Layout(\n",
    "            title = '推定年俸(万円)分布',\n",
    "            yaxis =dict(title='万円'),\n",
    "            bargap =0.3)\n",
    "    }\n",
    "\n",
    "if __name__ == '__main__':\n",
    "    app.run_server(debug = True, use_reloader=False)"
   ]
  }
 ],
 "metadata": {
  "kernelspec": {
   "display_name": "Python 3",
   "language": "python",
   "name": "python3"
  },
  "language_info": {
   "codemirror_mode": {
    "name": "ipython",
    "version": 3
   },
   "file_extension": ".py",
   "mimetype": "text/x-python",
   "name": "python",
   "nbconvert_exporter": "python",
   "pygments_lexer": "ipython3",
   "version": "3.8.3"
  }
 },
 "nbformat": 4,
 "nbformat_minor": 4
}
